{
 "cells": [
  {
   "cell_type": "code",
   "execution_count": 4,
   "id": "73e8940e-1dd3-44f7-89b8-b5d76776dc91",
   "metadata": {},
   "outputs": [
    {
     "name": "stdout",
     "output_type": "stream",
     "text": [
      "      AT      V       AP     RH      PE\n",
      "0  14.96  41.76  1024.07  73.17  463.26\n",
      "1  25.18  62.96  1020.04  59.08  444.37\n",
      "2   5.11  39.40  1012.16  92.14  488.56\n",
      "3  20.86  57.32  1010.24  76.64  446.48\n",
      "4  10.82  37.50  1009.23  96.62  473.90\n"
     ]
    }
   ],
   "source": [
    "import pandas as pd\n",
    "\n",
    "# Load the dataset\n",
    "df = pd.read_excel(\"Folds5x2_pp.xlsx\")  # Make sure the file is in the same folder\n",
    "\n",
    "# Save as CSV\n",
    "df.to_csv(\"C:/Users/uday kiran/Documents/power_plant_data.csv\", index=False)\n",
    "\n",
    "# Print first few rows\n",
    "print(df.head())"
   ]
  },
  {
   "cell_type": "code",
   "execution_count": 41,
   "id": "0f4ccae1-6338-4582-bf50-00b171a718f9",
   "metadata": {},
   "outputs": [
    {
     "name": "stdout",
     "output_type": "stream",
     "text": [
      "Requirement already satisfied: flask in e:\\anaconda3\\lib\\site-packages (3.0.3)\n",
      "Requirement already satisfied: Werkzeug>=3.0.0 in e:\\anaconda3\\lib\\site-packages (from flask) (3.0.3)\n",
      "Requirement already satisfied: Jinja2>=3.1.2 in e:\\anaconda3\\lib\\site-packages (from flask) (3.1.4)\n",
      "Requirement already satisfied: itsdangerous>=2.1.2 in e:\\anaconda3\\lib\\site-packages (from flask) (2.2.0)\n",
      "Requirement already satisfied: click>=8.1.3 in e:\\anaconda3\\lib\\site-packages (from flask) (8.1.7)\n",
      "Requirement already satisfied: blinker>=1.6.2 in e:\\anaconda3\\lib\\site-packages (from flask) (1.6.2)\n",
      "Requirement already satisfied: colorama in e:\\anaconda3\\lib\\site-packages (from click>=8.1.3->flask) (0.4.6)\n",
      "Requirement already satisfied: MarkupSafe>=2.0 in e:\\anaconda3\\lib\\site-packages (from Jinja2>=3.1.2->flask) (2.1.3)\n",
      "Note: you may need to restart the kernel to use updated packages.\n"
     ]
    }
   ],
   "source": [
    "pip install flask"
   ]
  },
  {
   "cell_type": "code",
   "execution_count": 23,
   "id": "ea3f67ca-d46f-40ca-b7db-467fc03d5501",
   "metadata": {},
   "outputs": [
    {
     "name": "stdout",
     "output_type": "stream",
     "text": [
      "Data Preprocessing Complete ✅\n"
     ]
    }
   ],
   "source": [
    "import pandas as pd\n",
    "from sklearn.model_selection import train_test_split\n",
    "from sklearn.preprocessing import StandardScaler\n",
    "\n",
    "# Load the dataset\n",
    "df = pd.read_csv(\"C:/Users/uday kiran/Documents/power_plant_data.csv\")\n",
    "\n",
    "# Split into Features (X) and Target (y)\n",
    "X = df.drop(columns=['PE'])  # 'PE' is the Power Output (Target)\n",
    "y = df['PE']\n",
    "\n",
    "# Normalize the data\n",
    "scaler = StandardScaler()\n",
    "X_scaled = scaler.fit_transform(X)\n",
    "\n",
    "# Split data into training & testing sets (80% train, 20% test)\n",
    "X_train, X_test, y_train, y_test = train_test_split(X_scaled, y, test_size=0.2, random_state=42)\n",
    "\n",
    "print(\"Data Preprocessing Complete ✅\")\n"
   ]
  },
  {
   "cell_type": "code",
   "execution_count": 25,
   "id": "eaf7075f-7722-4dab-a163-682b951f6cee",
   "metadata": {},
   "outputs": [
    {
     "name": "stdout",
     "output_type": "stream",
     "text": [
      "Model Training Complete ✅\n"
     ]
    }
   ],
   "source": [
    "from sklearn.linear_model import LinearRegression\n",
    "from sklearn.ensemble import RandomForestRegressor\n",
    "\n",
    "# Train Linear Regression Model\n",
    "lr_model = LinearRegression()\n",
    "lr_model.fit(X_train, y_train)\n",
    "\n",
    "# Train Random Forest Model\n",
    "rf_model = RandomForestRegressor(n_estimators=100, random_state=42)\n",
    "rf_model.fit(X_train, y_train)\n",
    "\n",
    "print(\"Model Training Complete ✅\")"
   ]
  },
  {
   "cell_type": "code",
   "execution_count": 27,
   "id": "193babcc-22cb-4c9b-a5e6-e355eab850f2",
   "metadata": {},
   "outputs": [
    {
     "name": "stdout",
     "output_type": "stream",
     "text": [
      "Mean Absolute Error (MAE): 3.595913178273408\n",
      "Mean Squared Error (MSE): 20.27370599968743\n",
      "R² Score: 0.9301046431962188\n"
     ]
    }
   ],
   "source": [
    "from sklearn.metrics import mean_absolute_error, mean_squared_error, r2_score\n",
    "from sklearn.linear_model import LinearRegression\n",
    "\n",
    "model = LinearRegression()\n",
    "model.fit(X_train, y_train)\n",
    "\n",
    "# Predict on test data\n",
    "y_pred = model.predict(X_test)\n",
    "\n",
    "# Calculate evaluation metrics\n",
    "mae = mean_absolute_error(y_test, y_pred)\n",
    "mse = mean_squared_error(y_test, y_pred)\n",
    "r2 = r2_score(y_test, y_pred)\n",
    "\n",
    "print(f\"Mean Absolute Error (MAE): {mae}\")\n",
    "print(f\"Mean Squared Error (MSE): {mse}\")\n",
    "print(f\"R² Score: {r2}\")"
   ]
  },
  {
   "cell_type": "code",
   "execution_count": 29,
   "id": "5680240c-b8b4-4403-a6ce-a34f34fa589d",
   "metadata": {},
   "outputs": [
    {
     "name": "stdout",
     "output_type": "stream",
     "text": [
      "Model and Scaler saved successfully!\n"
     ]
    }
   ],
   "source": [
    "import joblib\n",
    "\n",
    "# Save the trained model and scaler again\n",
    "joblib.dump(model, \"power_plant_model.pkl\")\n",
    "joblib.dump(scaler, \"scaler.pkl\")\n",
    "\n",
    "print(\"Model and Scaler saved successfully!\")"
   ]
  },
  {
   "cell_type": "code",
   "execution_count": 31,
   "id": "2acf49f8-64cf-4c77-8d64-2fbdfd7eb13d",
   "metadata": {},
   "outputs": [
    {
     "name": "stdout",
     "output_type": "stream",
     "text": [
      "Predicted Power Output: 467.2954100197144\n"
     ]
    }
   ],
   "source": [
    "import numpy as np\n",
    "import pandas as pd\n",
    "\n",
    "# Example new data point (replace with actual values)\n",
    "new_data = np.array([[14.96, 41.76, 1024.07, 73.17]])  # Example: [AT, V, AP, RH]\n",
    "\n",
    "# Convert NumPy array to DataFrame with correct column names\n",
    "column_names = [\"AT\", \"V\", \"AP\", \"RH\"]  # Make sure these match your original dataset\n",
    "new_data_df = pd.DataFrame(new_data, columns=column_names)\n",
    "\n",
    "# Scale the new data\n",
    "new_data_scaled = scaler.transform(new_data_df)\n",
    "\n",
    "# Predict using the trained model\n",
    "predicted_power = model.predict(new_data_scaled)\n",
    "\n",
    "print(\"Predicted Power Output:\", predicted_power[0])"
   ]
  },
  {
   "cell_type": "code",
   "execution_count": 52,
   "id": "34b3981e-bee3-460c-a968-81e1882afcad",
   "metadata": {},
   "outputs": [
    {
     "name": "stdout",
     "output_type": "stream",
     "text": [
      "Predicted Power Output: 467.2954100197144\n"
     ]
    },
    {
     "name": "stderr",
     "output_type": "stream",
     "text": [
      "E:\\anaconda3\\Lib\\site-packages\\sklearn\\base.py:493: UserWarning: X does not have valid feature names, but StandardScaler was fitted with feature names\n",
      "  warnings.warn(\n"
     ]
    }
   ],
   "source": [
    "import numpy as np\n",
    "\n",
    "# Example new data point (replace with actual values)\n",
    "new_data = np.array([[14.96, 41.76, 1024.07, 73.17]])  # Example: [AT, V, AP, RH]\n",
    "\n",
    "# Scale the new data\n",
    "new_data_scaled = scaler.transform(new_data)\n",
    "\n",
    "# Predict using the trained model\n",
    "predicted_power = model.predict(new_data_scaled)\n",
    "\n",
    "print(\"Predicted Power Output:\", predicted_power[0])"
   ]
  },
  {
   "cell_type": "code",
   "execution_count": 22,
   "id": "7e36c894-5c9d-47fb-ae92-3dbdb3184701",
   "metadata": {},
   "outputs": [
    {
     "name": "stdout",
     "output_type": "stream",
     "text": [
      " * Serving Flask app '__main__'\n",
      " * Debug mode: on\n"
     ]
    },
    {
     "name": "stderr",
     "output_type": "stream",
     "text": [
      "WARNING: This is a development server. Do not use it in a production deployment. Use a production WSGI server instead.\n",
      " * Running on http://127.0.0.1:5001\n",
      "Press CTRL+C to quit\n",
      " * Restarting with watchdog (windowsapi)\n"
     ]
    },
    {
     "ename": "SystemExit",
     "evalue": "1",
     "output_type": "error",
     "traceback": [
      "An exception has occurred, use %tb to see the full traceback.\n",
      "\u001b[1;31mSystemExit\u001b[0m\u001b[1;31m:\u001b[0m 1\n"
     ]
    },
    {
     "name": "stderr",
     "output_type": "stream",
     "text": [
      "E:\\anaconda3\\Lib\\site-packages\\IPython\\core\\interactiveshell.py:3585: UserWarning: To exit: use 'exit', 'quit', or Ctrl-D.\n",
      "  warn(\"To exit: use 'exit', 'quit', or Ctrl-D.\", stacklevel=1)\n"
     ]
    }
   ],
   "source": [
    "from flask import Flask, request, jsonify\n",
    "import numpy as np\n",
    "import joblib\n",
    "\n",
    "app = Flask(__name__)\n",
    "\n",
    "# Load the trained model and scaler\n",
    "model = joblib.load(\"power_plant_model.pkl\")\n",
    "scaler = joblib.load(\"scaler.pkl\")\n",
    "\n",
    "@app.route('/predict', methods=['POST'])\n",
    "def predict():\n",
    "    data = request.json  # Get input JSON\n",
    "    values = np.array(data['features']).reshape(1, -1)  # Convert to array\n",
    "    scaled_values = scaler.transform(values)  # Scale input\n",
    "    prediction = model.predict(scaled_values)[0]  # Predict power output\n",
    "    return jsonify({'predicted_power_output': prediction})\n",
    "\n",
    "if __name__ == '__main__':\n",
    "    app.run(debug=True, port=5001)  # Run the app on port 5001\n"
   ]
  },
  {
   "cell_type": "code",
   "execution_count": 20,
   "id": "824b3e85-133e-45f8-a40f-d1b93259334f",
   "metadata": {},
   "outputs": [
    {
     "name": "stdout",
     "output_type": "stream",
     "text": [
      " * Serving Flask app '__main__'\n",
      " * Debug mode: on\n"
     ]
    },
    {
     "name": "stderr",
     "output_type": "stream",
     "text": [
      "WARNING: This is a development server. Do not use it in a production deployment. Use a production WSGI server instead.\n",
      " * Running on all addresses (0.0.0.0)\n",
      " * Running on http://127.0.0.1:5001\n",
      " * Running on http://192.168.106.175:5001\n",
      "Press CTRL+C to quit\n",
      " * Restarting with watchdog (windowsapi)\n"
     ]
    },
    {
     "ename": "SystemExit",
     "evalue": "1",
     "output_type": "error",
     "traceback": [
      "An exception has occurred, use %tb to see the full traceback.\n",
      "\u001b[1;31mSystemExit\u001b[0m\u001b[1;31m:\u001b[0m 1\n"
     ]
    }
   ],
   "source": [
    "from flask import Flask\n",
    "from typing import Any\n",
    "\n",
    "def create_app() -> Flask:\n",
    "    \"\"\"\n",
    "    Creates and configures the Flask application.\n",
    "    \n",
    "    Returns:\n",
    "        Flask: Configured Flask application instance.\n",
    "    \"\"\"\n",
    "    app = Flask(__name__)\n",
    "    \n",
    "    @app.route('/')\n",
    "    def home() -> str:\n",
    "        \"\"\"\n",
    "        Handles the root endpoint of the application.\n",
    "        \n",
    "        Returns:\n",
    "            str: A simple greeting message.\n",
    "        \"\"\"\n",
    "        return 'Hello, World!'\n",
    "    \n",
    "    return app\n",
    "\n",
    "if __name__ == '__main__':\n",
    "    flask_app = create_app()\n",
    "    flask_app.run(\n",
    "        debug=True,\n",
    "        port=5001,\n",
    "        host='0.0.0.0'  # Allows external connections\n",
    "    )"
   ]
  },
  {
   "cell_type": "code",
   "execution_count": 14,
   "id": "b2bcdc42-8f28-4fcf-806a-715b8a5fcc17",
   "metadata": {},
   "outputs": [
    {
     "ename": "NameError",
     "evalue": "name 'app' is not defined",
     "output_type": "error",
     "traceback": [
      "\u001b[1;31m---------------------------------------------------------------------------\u001b[0m",
      "\u001b[1;31mNameError\u001b[0m                                 Traceback (most recent call last)",
      "Cell \u001b[1;32mIn[14], line 4\u001b[0m\n\u001b[0;32m      2\u001b[0m \u001b[38;5;28;01mfrom\u001b[39;00m \u001b[38;5;21;01mwerkzeug\u001b[39;00m\u001b[38;5;21;01m.\u001b[39;00m\u001b[38;5;21;01mserving\u001b[39;00m \u001b[38;5;28;01mimport\u001b[39;00m run_simple\n\u001b[0;32m      3\u001b[0m \u001b[38;5;28;01mif\u001b[39;00m \u001b[38;5;18m__name__\u001b[39m \u001b[38;5;241m==\u001b[39m \u001b[38;5;124m'\u001b[39m\u001b[38;5;124m__main__\u001b[39m\u001b[38;5;124m'\u001b[39m:\n\u001b[1;32m----> 4\u001b[0m     run_simple(\u001b[38;5;124m\"\u001b[39m\u001b[38;5;124mlocalhost\u001b[39m\u001b[38;5;124m\"\u001b[39m, \u001b[38;5;241m5001\u001b[39m, app)\n",
      "\u001b[1;31mNameError\u001b[0m: name 'app' is not defined"
     ]
    }
   ],
   "source": [
    "from flask import Flask\n",
    "from werkzeug.serving import run_simple\n",
    "if __name__ == '__main__':\n",
    "    run_simple(\"localhost\", 5001, app)\n",
    "  # Change the port"
   ]
  },
  {
   "cell_type": "code",
   "execution_count": 18,
   "id": "b1726e20-f91a-42e6-859c-b2f1cc533b76",
   "metadata": {},
   "outputs": [
    {
     "name": "stdout",
     "output_type": "stream",
     "text": [
      "Failed to start the application: name 'app' is not defined\n"
     ]
    }
   ],
   "source": [
    "if __name__ == '__main__':\n",
    "    # Configuration settings\n",
    "    APP_CONFIG = {\n",
    "        'DEBUG': True,  # Enable debug mode for development\n",
    "        'PORT': 5001,   # Custom port number\n",
    "        'HOST': '0.0.0.0'  # Host address, 0.0.0.0 allows external access\n",
    "    }\n",
    "    \n",
    "    try:\n",
    "        app.run(\n",
    "            debug=APP_CONFIG['DEBUG'],\n",
    "            port=APP_CONFIG['PORT'],\n",
    "            host=APP_CONFIG['HOST']\n",
    "        )\n",
    "    except Exception as e:\n",
    "        print(f\"Failed to start the application: {str(e)}\")"
   ]
  },
  {
   "cell_type": "code",
   "execution_count": null,
   "id": "16991cf8-8524-461a-9b17-557706dc28e0",
   "metadata": {},
   "outputs": [],
   "source": []
  }
 ],
 "metadata": {
  "kernelspec": {
   "display_name": "Python [conda env:base] *",
   "language": "python",
   "name": "conda-base-py"
  },
  "language_info": {
   "codemirror_mode": {
    "name": "ipython",
    "version": 3
   },
   "file_extension": ".py",
   "mimetype": "text/x-python",
   "name": "python",
   "nbconvert_exporter": "python",
   "pygments_lexer": "ipython3",
   "version": "3.12.7"
  }
 },
 "nbformat": 4,
 "nbformat_minor": 5
}
